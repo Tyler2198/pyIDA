
# Demo: Participation Summary

import pandas as pd
from core.participation import describe_participation

# Load data
df = pd.read_csv('../data/example_long_data.csv')

# Run analysis
summary = describe_participation(df, id_col='subject_id', time_col='visit_month')
print(summary)
