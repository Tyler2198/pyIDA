{
 "cells": [
  {
   "cell_type": "code",
   "execution_count": null,
   "metadata": {},
   "outputs": [],
   "source": [
    "# Demo: Participation Summary\n",
    "\n",
    "import pandas as pd\n",
    "from core.participation import describe_participation\n",
    "\n",
    "# Load data\n",
    "df = pd.read_csv('../data/example_long_data.csv')\n",
    "\n",
    "# Run analysis\n",
    "summary = describe_participation(df, id_col='subject_id', time_col='visit_month')\n",
    "print(summary)"
   ]
  }
 ],
 "metadata": {
  "language_info": {
   "name": "python"
  }
 },
 "nbformat": 4,
 "nbformat_minor": 2
}
